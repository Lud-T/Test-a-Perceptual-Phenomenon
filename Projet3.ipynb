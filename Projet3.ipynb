{
 "cells": [
  {
   "cell_type": "markdown",
   "metadata": {},
   "source": [
    "# NOTA\n",
    "\n",
    "[My GitHub](https://github.com/Lud-T/Test-a-Perceptual-Phenomenon)\n",
    "\n",
    "**Second submission**\n",
    "\n",
    "**What's new :**\n",
    "I have updated the answer of the question 2a.  \n",
    "<a href=\"#2\">What is an appropriate set of hypotheses for this task? What kind of statistical test do you expect to perform?</a>\n",
    "\n",
    "I focused the answer on mean and the population and translate them into mathematical statement.\n",
    "\n",
    "\n",
    "\n",
    "\n",
    "\n",
    "\n",
    "Go to projet <li><a href=\"#summary\">Summary</a></li>"
   ]
  },
  {
   "cell_type": "markdown",
   "metadata": {},
   "source": [
    "<a id='summary'></a>\n",
    "# Project 3 : Test a Perceptual Phenomenon\n",
    "\n",
    "\n",
    "## Table of Contents\n",
    "<ul>\n",
    "<li><a href=\"#1\">What is our independent variable? What is our dependent variable?</a></li>\n",
    "<li><a href=\"#2\">What is an appropriate set of hypotheses for this task? What kind of statistical test do you expect to perform?</a></li>\n",
    "<li><a href=\"#3\">Report some descriptive statistics regarding this dataset. Include at least one measure of central tendency and at least one measure of variability.  </a></li>\n",
    "<li><a href=\"#4\">Provide one or two visualizations that show the distribution of the sample data. Write one or two sentences noting what you observe about the plot or plots.  </a></li>\n",
    "<li><a href=\"#5\">Now, perform the statistical test and report your results. What is your confidence level and your critical statistic value? Do you reject the null hypothesis or fail to reject it? Come to a conclusion in terms of the experiment task. Did the results match up with your expectations?  </a></li>\n",
    "<li><a href=\"#6\">What do you think is responsible for the effects observed? Can you think of an alternative or similar task that would result in a similar effect? Some research about the problem will be helpful for thinking about these two questions!  </a></li>\n",
    "<li><a href=\"#ref\">References</a></li>\n",
    "</ul>\n",
    "\n"
   ]
  },
  {
   "cell_type": "markdown",
   "metadata": {},
   "source": [
    "<a id='1'></a>\n",
    "# 1 - What is our independent variable? What is our dependent variable?  \n",
    "\n",
    "### Question 1: Identify variables in the experiment  \n",
    "*Question response correctly identifies the independent and dependent variables in the experiment.*\n",
    "<li><a href=\"#summary\">back to summary</a></li>"
   ]
  },
  {
   "cell_type": "markdown",
   "metadata": {},
   "source": [
    "**Independent variable:**  \n",
    "Type of text :  \n",
    "- congruent : Word coloured in the color they describe.\n",
    "- incongruent : Word coloured in another color they describe.  \n",
    "  \n",
    "**Dependent variable:**  \n",
    "Time to read the text.\n",
    "\n"
   ]
  },
  {
   "cell_type": "markdown",
   "metadata": {},
   "source": [
    "<a id='2'></a>\n",
    "# 2 - What is an appropriate set of hypotheses for this task? What kind of statistical test do you expect to perform?\n",
    "\n",
    "*Now it’s your chance to try out the Stroop task for yourself. Go to this https://faculty.washington.edu/chudler/java/ready.html , which has a Java-based applet for performing the Stroop task. Record the times that you received on the task (you do not need to submit your times to the site.) Now, download this dataset https://www.google.com/url?q=https://drive.google.com/file/d/0B9Yf01UaIbUgQXpYb2NhZ29yX1U/view?usp%3Dsharing&sa=D&ust=1608031185902000&usg=AOvVaw3GlV3MCimu4I4pVT-12sK8 which contains results from a number of participants in the task. Each row of the dataset contains the performance for one participant, with the first number their results on the congruent task and the second number their performance on the incongruent task. *\n",
    "\n",
    "### Question 2a: Establish hypotheses  \n",
    "*Null and alternative hypotheses are clearly stated in words and mathematically. Symbols in the mathematical statement are defined.*\n",
    "\n",
    "**comments from reviewer**  \n",
    "\n",
    "*The Null and alternative hypotheses are not accurate, it is not clear if the hypotheses concerned about the population or the sample. It is stated \"No difference in terms of time to read the text between incongruent and congruent text type\", but instead the hypothesis should be concerned with the mean population time. The idea of the test is that we are using limited data (based on our samples) in order to make inferences about the populations (and the population means). We know what the sample means are, and we are trying to infer something about the population, so the null and alternative hypotheses should be concerned with the population. The link here includes an example for the null and alternative hypotheses. https://courses.lumenlearning.com/introstats1/chapter/null-and-alternative-hypotheses/*\n",
    "*Please include also the mathematical statement of the hypothesis.*  \n",
    "\n",
    "\n",
    "  \n",
    "  \n",
    "<li><a href=\"#summary\">back to summary</a></li>"
   ]
  },
  {
   "cell_type": "markdown",
   "metadata": {},
   "source": [
    "\n",
    "**µC** : mean time to read Congruent words  \n",
    "**µI** : mean time to read Incongruent words\n",
    "\n",
    "\n",
    "**Null hypothesis : H0**  \n",
    "No difference between the mean time to read of the two groups.  \n",
    "\n",
    "**H0** : µC = µI\n",
    "\n",
    "\n",
    "**Alternative hypothesis : Ha**  \n",
    "There is a significative difference between the two groups mean time to read.\n",
    "  \n",
    "**H0** : µC != µI\n"
   ]
  },
  {
   "cell_type": "markdown",
   "metadata": {},
   "source": [
    "### Question 2b: Establish a statistical test  \n",
    "*A statistical test is proposed which will distinguish the proposed hypotheses. Any assumptions made by the statistical test are addressed.*"
   ]
  },
  {
   "cell_type": "markdown",
   "metadata": {},
   "source": [
    "To answer the question we can use a dependent two-tailed t-test, especially because this is a small sample (<30) and because it is two measures of the same people.  \n",
    "Furthermore it is the tool to determine if there is a significative difference between two means."
   ]
  },
  {
   "cell_type": "markdown",
   "metadata": {},
   "source": [
    "<a id='3'></a>\n",
    "# 3 - Report some descriptive statistics regarding this dataset. Include at least one measure of central tendency and at least one measure of variability.  \n",
    "\n",
    "**Question 3**: Report descriptive statistics  \n",
    "*Descriptive statistics, including at least one measure of centrality and one measure of variability, have been computed for the dataset’s groups.*\n",
    "<li><a href=\"#summary\">back to summary</a></li>"
   ]
  },
  {
   "cell_type": "markdown",
   "metadata": {},
   "source": [
    "**Thanks to pandas.**"
   ]
  },
  {
   "cell_type": "code",
   "execution_count": 86,
   "metadata": {},
   "outputs": [],
   "source": [
    "import pandas as pd\n",
    "\n",
    "# import data into dataframe\n",
    "dataframe = pd.read_csv('stroopdata.csv')"
   ]
  },
  {
   "cell_type": "code",
   "execution_count": 87,
   "metadata": {},
   "outputs": [
    {
     "data": {
      "text/html": [
       "<div>\n",
       "<style scoped>\n",
       "    .dataframe tbody tr th:only-of-type {\n",
       "        vertical-align: middle;\n",
       "    }\n",
       "\n",
       "    .dataframe tbody tr th {\n",
       "        vertical-align: top;\n",
       "    }\n",
       "\n",
       "    .dataframe thead th {\n",
       "        text-align: right;\n",
       "    }\n",
       "</style>\n",
       "<table border=\"1\" class=\"dataframe\">\n",
       "  <thead>\n",
       "    <tr style=\"text-align: right;\">\n",
       "      <th></th>\n",
       "      <th>Congruent</th>\n",
       "      <th>Incongruent</th>\n",
       "    </tr>\n",
       "  </thead>\n",
       "  <tbody>\n",
       "    <tr>\n",
       "      <th>0</th>\n",
       "      <td>12.079</td>\n",
       "      <td>19.278</td>\n",
       "    </tr>\n",
       "    <tr>\n",
       "      <th>1</th>\n",
       "      <td>16.791</td>\n",
       "      <td>18.741</td>\n",
       "    </tr>\n",
       "    <tr>\n",
       "      <th>2</th>\n",
       "      <td>9.564</td>\n",
       "      <td>21.214</td>\n",
       "    </tr>\n",
       "    <tr>\n",
       "      <th>3</th>\n",
       "      <td>8.630</td>\n",
       "      <td>15.687</td>\n",
       "    </tr>\n",
       "    <tr>\n",
       "      <th>4</th>\n",
       "      <td>14.669</td>\n",
       "      <td>22.803</td>\n",
       "    </tr>\n",
       "    <tr>\n",
       "      <th>5</th>\n",
       "      <td>12.238</td>\n",
       "      <td>20.878</td>\n",
       "    </tr>\n",
       "    <tr>\n",
       "      <th>6</th>\n",
       "      <td>14.692</td>\n",
       "      <td>24.572</td>\n",
       "    </tr>\n",
       "    <tr>\n",
       "      <th>7</th>\n",
       "      <td>8.987</td>\n",
       "      <td>17.394</td>\n",
       "    </tr>\n",
       "    <tr>\n",
       "      <th>8</th>\n",
       "      <td>9.401</td>\n",
       "      <td>20.762</td>\n",
       "    </tr>\n",
       "    <tr>\n",
       "      <th>9</th>\n",
       "      <td>14.480</td>\n",
       "      <td>26.282</td>\n",
       "    </tr>\n",
       "    <tr>\n",
       "      <th>10</th>\n",
       "      <td>22.328</td>\n",
       "      <td>24.524</td>\n",
       "    </tr>\n",
       "    <tr>\n",
       "      <th>11</th>\n",
       "      <td>15.298</td>\n",
       "      <td>18.644</td>\n",
       "    </tr>\n",
       "    <tr>\n",
       "      <th>12</th>\n",
       "      <td>15.073</td>\n",
       "      <td>17.510</td>\n",
       "    </tr>\n",
       "    <tr>\n",
       "      <th>13</th>\n",
       "      <td>16.929</td>\n",
       "      <td>20.330</td>\n",
       "    </tr>\n",
       "    <tr>\n",
       "      <th>14</th>\n",
       "      <td>18.200</td>\n",
       "      <td>35.255</td>\n",
       "    </tr>\n",
       "    <tr>\n",
       "      <th>15</th>\n",
       "      <td>12.130</td>\n",
       "      <td>22.158</td>\n",
       "    </tr>\n",
       "    <tr>\n",
       "      <th>16</th>\n",
       "      <td>18.495</td>\n",
       "      <td>25.139</td>\n",
       "    </tr>\n",
       "    <tr>\n",
       "      <th>17</th>\n",
       "      <td>10.639</td>\n",
       "      <td>20.429</td>\n",
       "    </tr>\n",
       "    <tr>\n",
       "      <th>18</th>\n",
       "      <td>11.344</td>\n",
       "      <td>17.425</td>\n",
       "    </tr>\n",
       "    <tr>\n",
       "      <th>19</th>\n",
       "      <td>12.369</td>\n",
       "      <td>34.288</td>\n",
       "    </tr>\n",
       "    <tr>\n",
       "      <th>20</th>\n",
       "      <td>12.944</td>\n",
       "      <td>23.894</td>\n",
       "    </tr>\n",
       "    <tr>\n",
       "      <th>21</th>\n",
       "      <td>14.233</td>\n",
       "      <td>17.960</td>\n",
       "    </tr>\n",
       "    <tr>\n",
       "      <th>22</th>\n",
       "      <td>19.710</td>\n",
       "      <td>22.058</td>\n",
       "    </tr>\n",
       "    <tr>\n",
       "      <th>23</th>\n",
       "      <td>16.004</td>\n",
       "      <td>21.157</td>\n",
       "    </tr>\n",
       "  </tbody>\n",
       "</table>\n",
       "</div>"
      ],
      "text/plain": [
       "    Congruent  Incongruent\n",
       "0      12.079       19.278\n",
       "1      16.791       18.741\n",
       "2       9.564       21.214\n",
       "3       8.630       15.687\n",
       "4      14.669       22.803\n",
       "5      12.238       20.878\n",
       "6      14.692       24.572\n",
       "7       8.987       17.394\n",
       "8       9.401       20.762\n",
       "9      14.480       26.282\n",
       "10     22.328       24.524\n",
       "11     15.298       18.644\n",
       "12     15.073       17.510\n",
       "13     16.929       20.330\n",
       "14     18.200       35.255\n",
       "15     12.130       22.158\n",
       "16     18.495       25.139\n",
       "17     10.639       20.429\n",
       "18     11.344       17.425\n",
       "19     12.369       34.288\n",
       "20     12.944       23.894\n",
       "21     14.233       17.960\n",
       "22     19.710       22.058\n",
       "23     16.004       21.157"
      ]
     },
     "execution_count": 87,
     "metadata": {},
     "output_type": "execute_result"
    }
   ],
   "source": [
    "#content\n",
    "dataframe"
   ]
  },
  {
   "cell_type": "code",
   "execution_count": 88,
   "metadata": {},
   "outputs": [
    {
     "data": {
      "text/html": [
       "<div>\n",
       "<style scoped>\n",
       "    .dataframe tbody tr th:only-of-type {\n",
       "        vertical-align: middle;\n",
       "    }\n",
       "\n",
       "    .dataframe tbody tr th {\n",
       "        vertical-align: top;\n",
       "    }\n",
       "\n",
       "    .dataframe thead th {\n",
       "        text-align: right;\n",
       "    }\n",
       "</style>\n",
       "<table border=\"1\" class=\"dataframe\">\n",
       "  <thead>\n",
       "    <tr style=\"text-align: right;\">\n",
       "      <th></th>\n",
       "      <th>Congruent</th>\n",
       "      <th>Incongruent</th>\n",
       "    </tr>\n",
       "  </thead>\n",
       "  <tbody>\n",
       "    <tr>\n",
       "      <th>count</th>\n",
       "      <td>24.000000</td>\n",
       "      <td>24.000000</td>\n",
       "    </tr>\n",
       "    <tr>\n",
       "      <th>mean</th>\n",
       "      <td>14.051125</td>\n",
       "      <td>22.015917</td>\n",
       "    </tr>\n",
       "    <tr>\n",
       "      <th>std</th>\n",
       "      <td>3.559358</td>\n",
       "      <td>4.797057</td>\n",
       "    </tr>\n",
       "    <tr>\n",
       "      <th>min</th>\n",
       "      <td>8.630000</td>\n",
       "      <td>15.687000</td>\n",
       "    </tr>\n",
       "    <tr>\n",
       "      <th>25%</th>\n",
       "      <td>11.895250</td>\n",
       "      <td>18.716750</td>\n",
       "    </tr>\n",
       "    <tr>\n",
       "      <th>50%</th>\n",
       "      <td>14.356500</td>\n",
       "      <td>21.017500</td>\n",
       "    </tr>\n",
       "    <tr>\n",
       "      <th>75%</th>\n",
       "      <td>16.200750</td>\n",
       "      <td>24.051500</td>\n",
       "    </tr>\n",
       "    <tr>\n",
       "      <th>max</th>\n",
       "      <td>22.328000</td>\n",
       "      <td>35.255000</td>\n",
       "    </tr>\n",
       "  </tbody>\n",
       "</table>\n",
       "</div>"
      ],
      "text/plain": [
       "       Congruent  Incongruent\n",
       "count  24.000000    24.000000\n",
       "mean   14.051125    22.015917\n",
       "std     3.559358     4.797057\n",
       "min     8.630000    15.687000\n",
       "25%    11.895250    18.716750\n",
       "50%    14.356500    21.017500\n",
       "75%    16.200750    24.051500\n",
       "max    22.328000    35.255000"
      ]
     },
     "execution_count": 88,
     "metadata": {},
     "output_type": "execute_result"
    }
   ],
   "source": [
    "#Descriptive statistics\n",
    "dataframe.describe()"
   ]
  },
  {
   "cell_type": "markdown",
   "metadata": {},
   "source": [
    "<a id='4'></a>\n",
    "# 4 - Provide one or two visualizations that show the distribution of the sample data. Write one or two sentences noting what you observe about the plot or plots.  \n",
    "\n",
    "\n",
    "**Question 4**: Plot the data  \n",
    "*One or two visualizations have been created that show off the data, including comments on what can be observed in the plot or plots.*\n",
    "<li><a href=\"#summary\">back to summary</a></li>"
   ]
  },
  {
   "cell_type": "code",
   "execution_count": 89,
   "metadata": {
    "scrolled": true
   },
   "outputs": [
    {
     "data": {
      "text/plain": [
       "[Text(0.5, 0, 'Time to read')]"
      ]
     },
     "execution_count": 89,
     "metadata": {},
     "output_type": "execute_result"
    },
    {
     "data": {
      "image/png": "[encoded data removed]",
      "text/plain": [
       "<Figure size 432x288 with 1 Axes>"
      ]
     },
     "metadata": {
      "needs_background": "light"
     },
     "output_type": "display_data"
    }
   ],
   "source": [
    "#https://pandas.pydata.org/pandas-docs/stable/reference/api/pandas.DataFrame.plot.kde.html\n",
    "#https://intellipaat.com/community/28865/add-x-and-y-labels-to-a-pandas-plot\n",
    "\n",
    "ax = dataframe.plot.kde()\n",
    "\n",
    "ax.set(xlabel=\"Time to read\")\n"
   ]
  },
  {
   "cell_type": "markdown",
   "metadata": {},
   "source": [
    "Looking for histogram tutorials I found this kernel density estimation (KDE) graph which is really adequat to visualize these data.  \n",
    "  \n",
    "  \n",
    "We can see the there is a difference in the time to read a text according to its type Congruent or Incongruent.  \n",
    "Also, we need to calculate it to prove it."
   ]
  },
  {
   "cell_type": "markdown",
   "metadata": {},
   "source": [
    "<a id='5'></a>\n",
    "# 5 - Now, perform the statistical test and report your results. What is your confidence level and your critical statistic value? Do you reject the null hypothesis or fail to reject it? Come to a conclusion in terms of the experiment task. Did the results match up with your expectations?  \n",
    "\n",
    "\n",
    "**Question 5**: Perform the statistical test and interpret your results  \n",
    "*A statistical test has been correctly performed and reported, including test statistic, p-value, and test result. The test results are interpreted in terms of the experimental task performed. Alternatively, students may use a bootstrapping approach to simulate the results of a traditional hypothesis test.*\n",
    "<li><a href=\"#summary\">back to summary</a></li>"
   ]
  },
  {
   "cell_type": "code",
   "execution_count": 90,
   "metadata": {},
   "outputs": [
    {
     "data": {
      "text/plain": [
       "Ttest_relResult(statistic=-8.020706944109957, pvalue=4.103000585711178e-08)"
      ]
     },
     "execution_count": 90,
     "metadata": {},
     "output_type": "execute_result"
    }
   ],
   "source": [
    "from scipy import stats\n",
    "\n",
    "\n",
    "# Calculate the relative T-test \n",
    "stats.ttest_rel(dataframe['Congruent'], dataframe['Incongruent'])\n",
    "\n"
   ]
  },
  {
   "cell_type": "code",
   "execution_count": 91,
   "metadata": {},
   "outputs": [
    {
     "name": "stdout",
     "output_type": "stream",
     "text": [
      "2.0686576104190406\n"
     ]
    }
   ],
   "source": [
    "# Calculate the critical value for 5%\n",
    "print(stats.t.ppf(1-0.025, 23))\n"
   ]
  },
  {
   "cell_type": "markdown",
   "metadata": {},
   "source": [
    "Both this online tool http://www.sthda.com/french/rsthda/paired-t-test.php and scipy library give the same results.  \n",
    "\n",
    "**T-value** : -8.020706944109957   \n",
    "**Critical value for 95% on 23 degree of freedom**: 2.0686576104190406\n",
    "\n",
    "**P-value** : 4.103000585711178e-08  => 0,00000004\n",
    "  \n",
    "    \n",
    "  \n",
    "  \n",
    "    \n",
    "\n",
    "**Conclusion** :  \n",
    "The absolute T value 8.02 is greater than the critical value 2.06  \n",
    "The P value 0,00000004 is smaller than the threshold we choose 5%\n",
    "**Null hypothesis reject : There are a singificative difference in terms of time to read a text if the text type is congruent or incongruent** : \n",
    "\n",
    "\n",
    "\n",
    "\n",
    "\n"
   ]
  },
  {
   "cell_type": "markdown",
   "metadata": {},
   "source": [
    "<a id='6'></a>\n",
    "# 6 - Optional: What do you think is responsible for the effects observed? Can you think of an alternative or similar task that would result in a similar effect? Some research about the problem will be helpful for thinking about these two questions!  \n",
    "\n",
    "**Question 6**: Digging deeper and extending the investigation Question 6 is optional and does not need to be answered in order to meet project specifications.  \n",
    "*Hypotheses regarding the reasons for the effect observed are presented. An extension or related experiment to the performed Stroop task is provided, that may produce similar effects.*\n",
    "<li><a href=\"#summary\">back to summary</a></li>"
   ]
  },
  {
   "cell_type": "markdown",
   "metadata": {},
   "source": [
    "I imagine people, before reading the text, unconsciously maybe, check the congruence of the text, and \"see\" only the color of the words and not the words which may be faster.  \n",
    "We maybe can test with the words vertical and horizontal written in the vertical or horizontal direction ?  \n",
    "\n",
    "After some research it appears :  https://faculty.washington.edu/chudler/words.html\n",
    "\n",
    "There are two theories :  \n",
    "**Speed of Processing Theory**: the interference occurs because words are read faster than colors are named.   \n",
    "**Selective Attention Theory**: the interference occurs because naming colors requires more attention than reading words.\n",
    "\n",
    "  \n",
    "\n",
    "\n"
   ]
  },
  {
   "cell_type": "markdown",
   "metadata": {},
   "source": [
    "<a id='ref'></a>\n",
    "# References\n",
    "<li><a href=\"#summary\">back to summary</a></li>\n",
    "\n",
    "https://docs.scipy.org/doc/scipy/reference/generated/scipy.stats.ttest_rel.html\n",
    "\n",
    "http://pageperso.lif.univ-mrs.fr/~francois.denis/IAAM1/numpy-html-1.14.0/reference/generated/numpy.std.html\n",
    "\n",
    "\n",
    "\n",
    "http://www.sthda.com/french/rsthda/paired-t-test.php\n",
    "\n",
    "\n",
    "http://www.sthda.com/french/wiki/table-de-student-ou-table-t\n",
    "\n",
    "\n",
    "http://www.sthda.com/french/wiki/test-de-student-formules#cest-quoi-le-test-de-student-apparie\n",
    "\n",
    "\n",
    "https://fr.wikipedia.org/wiki/Test_de_Student\n",
    "\n",
    "\n",
    "https://en.wikibooks.org/wiki/Statistics/Testing_Data/t-tests\n",
    "\n",
    "\n",
    "\n",
    "https://www.youtube.com/watch?v=TyzbNXGMNGU\n",
    "Estimation d’une moyenne par intervalle de confiance – Théorie\n"
   ]
  },
  {
   "cell_type": "code",
   "execution_count": 1,
   "metadata": {},
   "outputs": [
    {
     "data": {
      "text/plain": [
       "0"
      ]
     },
     "execution_count": 1,
     "metadata": {},
     "output_type": "execute_result"
    }
   ],
   "source": [
    "from subprocess import call\n",
    "call(['python', '-m', 'nbconvert', 'Projet3'])"
   ]
  }
 ],
 "metadata": {
  "kernelspec": {
   "display_name": "Python 3",
   "language": "python",
   "name": "python3"
  },
  "language_info": {
   "codemirror_mode": {
    "name": "ipython",
    "version": 3
   },
   "file_extension": ".py",
   "mimetype": "text/x-python",
   "name": "python",
   "nbconvert_exporter": "python",
   "pygments_lexer": "ipython3",
   "version": "3.8.5"
  }
 },
 "nbformat": 4,
 "nbformat_minor": 4
}
